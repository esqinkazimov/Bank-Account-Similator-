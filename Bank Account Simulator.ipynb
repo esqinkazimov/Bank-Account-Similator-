{
 "cells": [
  {
   "cell_type": "markdown",
   "metadata": {},
   "source": [
    "# Bank Account Simulator"
   ]
  },
  {
   "cell_type": "code",
   "execution_count": 1,
   "metadata": {},
   "outputs": [],
   "source": [
    "import time\n",
    "\n",
    "class Account:\n",
    "    def __init__(self,owner,balance=0):\n",
    "        self.owner = owner\n",
    "        self.balance = balance\n",
    "        \n",
    "    def __str__(self):\n",
    "        return f'Account owner:  {self.owner} |  Account balance: {self.balance} AZN'\n",
    "        \n",
    "    def deposit(self,dep_amt):\n",
    "        self.balance += dep_amt\n",
    "        print('We are trying our best to serve you better...')\n",
    "        time.sleep(5)\n",
    "        print('Deposit Accepted')\n",
    "        \n",
    "    def withdraw(self,wd_amt):\n",
    "        if self.balance >= wd_amt:\n",
    "            self.balance -= wd_amt\n",
    "            print('We are trying our best to serve you better...')\n",
    "            time.sleep(5)\n",
    "            print('Withdrawal Accepted')\n",
    "        else:\n",
    "            print('We are trying our best to serve you better...')\n",
    "            time.sleep(5)\n",
    "            print('Funds Unavailable!')"
   ]
  },
  {
   "cell_type": "code",
   "execution_count": 2,
   "metadata": {},
   "outputs": [],
   "source": [
    "# 1. Instantiate the class\n",
    "acct1 = Account('Eshqin',100)"
   ]
  },
  {
   "cell_type": "code",
   "execution_count": 3,
   "metadata": {},
   "outputs": [
    {
     "name": "stdout",
     "output_type": "stream",
     "text": [
      "Account owner:  Eshqin |  Account balance: 100 AZN\n"
     ]
    }
   ],
   "source": [
    "# 2. Print the object\n",
    "print(acct1)"
   ]
  },
  {
   "cell_type": "code",
   "execution_count": 4,
   "metadata": {},
   "outputs": [
    {
     "data": {
      "text/plain": [
       "'Eshqin'"
      ]
     },
     "execution_count": 4,
     "metadata": {},
     "output_type": "execute_result"
    }
   ],
   "source": [
    "# 3. Show the account owner attribute\n",
    "acct1.owner"
   ]
  },
  {
   "cell_type": "code",
   "execution_count": 5,
   "metadata": {},
   "outputs": [
    {
     "data": {
      "text/plain": [
       "100"
      ]
     },
     "execution_count": 5,
     "metadata": {},
     "output_type": "execute_result"
    }
   ],
   "source": [
    "# 4. Show the account balance attribute\n",
    "acct1.balance"
   ]
  },
  {
   "cell_type": "code",
   "execution_count": 6,
   "metadata": {},
   "outputs": [
    {
     "name": "stdout",
     "output_type": "stream",
     "text": [
      "We are trying our best to serve you better...\n",
      "Deposit Accepted\n"
     ]
    }
   ],
   "source": [
    "# 5. Make a series of deposits and withdrawals\n",
    "acct1.deposit(50)"
   ]
  },
  {
   "cell_type": "code",
   "execution_count": 7,
   "metadata": {},
   "outputs": [
    {
     "name": "stdout",
     "output_type": "stream",
     "text": [
      "Account owner:  Eshqin |  Account balance: 150 AZN\n"
     ]
    }
   ],
   "source": [
    "print(acct1)"
   ]
  },
  {
   "cell_type": "code",
   "execution_count": 8,
   "metadata": {},
   "outputs": [
    {
     "name": "stdout",
     "output_type": "stream",
     "text": [
      "We are trying our best to serve you better...\n",
      "Withdrawal Accepted\n"
     ]
    }
   ],
   "source": [
    "acct1.withdraw(75)"
   ]
  },
  {
   "cell_type": "code",
   "execution_count": 9,
   "metadata": {},
   "outputs": [
    {
     "name": "stdout",
     "output_type": "stream",
     "text": [
      "Account owner:  Eshqin |  Account balance: 75 AZN\n"
     ]
    }
   ],
   "source": [
    "print(acct1)"
   ]
  },
  {
   "cell_type": "code",
   "execution_count": 10,
   "metadata": {},
   "outputs": [
    {
     "name": "stdout",
     "output_type": "stream",
     "text": [
      "We are trying our best to serve you better...\n",
      "Funds Unavailable!\n"
     ]
    }
   ],
   "source": [
    "# 6. Make a withdrawal that exceeds the available balance\n",
    "acct1.withdraw(500)"
   ]
  },
  {
   "cell_type": "code",
   "execution_count": 11,
   "metadata": {},
   "outputs": [
    {
     "name": "stdout",
     "output_type": "stream",
     "text": [
      "Account owner:  Eshqin |  Account balance: 75 AZN\n"
     ]
    }
   ],
   "source": [
    "print(acct1)"
   ]
  }
 ],
 "metadata": {
  "kernelspec": {
   "display_name": "Python 3",
   "language": "python",
   "name": "python3"
  },
  "language_info": {
   "codemirror_mode": {
    "name": "ipython",
    "version": 3
   },
   "file_extension": ".py",
   "mimetype": "text/x-python",
   "name": "python",
   "nbconvert_exporter": "python",
   "pygments_lexer": "ipython3",
   "version": "3.6.5"
  }
 },
 "nbformat": 4,
 "nbformat_minor": 2
}
